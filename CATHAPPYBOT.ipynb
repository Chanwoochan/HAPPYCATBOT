{
  "cells": [
    {
      "cell_type": "code",
      "execution_count": null,
      "metadata": {
        "id": "xZrUhLiFby8W",
        "outputId": "5d63e54e-d0a1-490b-8604-e4755d57c11f"
      },
      "outputs": [
        {
          "name": "stdout",
          "output_type": "stream",
          "text": [
            "Device not found. Please connect the BluetoothUSB, or shut down other port connected program.\n",
            "Reconnecting serial...\n",
            "Found device: USB 직렬 장치(COM4)\n",
            "Serial connected.\n",
            "Write data: FF FF 61 FF 40 00 AD 00 0B 1A 61\n",
            "Connected with a master robot.\n",
            "Connected robots: 2\n",
            "Connected robots: 3\n",
            "Connected robots: 4\n",
            "Fully connected.\n"
          ]
        }
      ],
      "source": [
        "from pingpongthread import PingPongThread\n",
        "import time\n",
        "import keyboard\n",
        "PingPong = PingPongThread(number =4, group_id=61)\n",
        "PingPong.start()\n",
        "PingPong.wait_until_full_connect()"
      ]
    },
    {
      "cell_type": "code",
      "execution_count": null,
      "metadata": {
        "id": "HYKyKPunby8Y"
      },
      "outputs": [],
      "source": [
        "PingPong.webcam_open(\"http://192.168.66.1:9527/videostream.cgi?loginuse=admin&loginpas=admin\")\n",
        "\n",
        "model = PingPong.get_classification_model(\"model/cat.json\")\n",
        "\n",
        "frames_predictor = PingPong.FramesPredictor(model=model, timer_sec=1)\n",
        "\n",
        "mode = 1\n",
        "go = 0\n",
        "a = 10\n",
        "count = 0\n",
        "while mode == 1 : # AI 고양이 놀이 모드\n",
        "    PingPong.run_motor([1,2,3,4],[10,10,10,0])\n",
        "    time.sleep(0.5)\n",
        "    PingPong.run_motor([1,2,3,4],\"stop\")\n",
        "    for j in range(a):\n",
        "        PingPong.clear_output()\n",
        "        frame = PingPong.webcam_get_frame(window=\"Get_frame\")\n",
        "    frames_prediction = frames_predictor.image_predict_and_accum(frame)\n",
        "    print(\"aaaaaa\")\n",
        "    aiTime = 1\n",
        "    time.sleep(0.1)\n",
        "    maxclass= max(frames_prediction, key=frames_prediction.get)\n",
        "    print(\"---------\")\n",
        "    print(maxclass)\n",
        "    print(frames_prediction[maxclass])\n",
        "    print(\"---------\")\n",
        "    if maxclass == \"cat\" and frames_prediction[maxclass] >= 5 :\n",
        "        PingPong.play_music(2, [\"sol\",\"la\",\"sol\"], [\"Eighth\", \"Eighth\", \"half\"])\n",
        "        count  = count + 1\n",
        "        for i in range(0, 4) :\n",
        "            go = 1\n",
        "            PingPong.run_single_servo(2, 150)\n",
        "            time.sleep(0.2)\n",
        "            PingPong.run_single_servo(2, 30)\n",
        "            time.sleep(0.2)\n",
        "        if count == 10 :\n",
        "            PingPong.play_music(2, [\"sol\",\"do\",\"sol\",\"do\",\"la\",\"fa\",\"la\",\"fa\",\"sol\",\"do\",\"sol\",\"do\",\"mi\"], [\"sixteenth\", \"sixteenth\", \"sixteenth\", \"sixteenth\", \"sixteenth\", \"sixteenth\", \"sixteenth\", \"sixteenth\", \"sixteenth\", \"sixteenth\", \"sixteenth\", \"sixteenth\", \"half\"])\n",
        "            PingPong.run_motor([1,2,3,4],[0,20,0,20])\n",
        "            time.sleep(0.2)\n",
        "            PingPong.run_motor([1,2,3,4],\"stop\")\n",
        "            time.sleep(1)\n",
        "            PingPong.run_motor([1,2,3,4],[0,-20,0,-20])\n",
        "            time.sleep(0.2)\n",
        "            PingPong.play_music(2, [\"C5\", \"C4\"], [\"Eighth\", \"half\"])\n",
        "            PingPong.run_motor([1,2,3,4],\"stop\")\n",
        "            count = 0\n",
        "    aiTime = aiTime - 1\n",
        "    if aiTime == 0 and go == 1 :\n",
        "        PingPong.play_music(2, [\"sol\",\"do\",\"sol\",\"do\",\"la\",\"fa\",\"la\",\"fa\",\"sol\",\"do\",\"sol\",\"do\",\"mi\"], [\"sixteenth\", \"sixteenth\", \"sixteenth\", \"sixteenth\", \"sixteenth\", \"sixteenth\", \"sixteenth\", \"sixteenth\", \"sixteenth\", \"sixteenth\", \"sixteenth\", \"sixteenth\", \"half\"])\n",
        "        PingPong.run_motor([1,2,3,4],[-30,308,30,0])\n",
        "        time.sleep(2)\n",
        "        PingPong.run_motor([1,2,3,4],\"stop\")\n",
        "        PingPong.play_music(2, [\"C5\", \"C4\"], [\"Eighth\", \"half\"])\n",
        "        go = 0\n",
        "        a = 30\n",
        "    else :\n",
        "        a = 15\n",
        "\n"
      ]
    },
    {
      "cell_type": "code",
      "execution_count": null,
      "metadata": {
        "id": "Yd7GWf1Rby8Z"
      },
      "outputs": [],
      "source": [
        "PingPong.webcam_close()\n",
        "PingPong.end()"
      ]
    }
  ],
  "metadata": {
    "kernelspec": {
      "display_name": "Python 3",
      "language": "python",
      "name": "python3"
    },
    "language_info": {
      "codemirror_mode": {
        "name": "ipython",
        "version": 3
      },
      "file_extension": ".py",
      "mimetype": "text/x-python",
      "name": "python",
      "nbconvert_exporter": "python",
      "pygments_lexer": "ipython3",
      "version": "3.6.6"
    },
    "colab": {
      "provenance": []
    }
  },
  "nbformat": 4,
  "nbformat_minor": 0
}